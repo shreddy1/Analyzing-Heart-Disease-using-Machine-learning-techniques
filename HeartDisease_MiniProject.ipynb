{
  "nbformat": 4,
  "nbformat_minor": 0,
  "metadata": {
    "colab": {
      "name": "HeartDisease_MiniProject.ipynb",
      "provenance": [],
      "collapsed_sections": [],
      "authorship_tag": "ABX9TyNz1UuIY91ovK6QwNcUnZyS",
      "include_colab_link": true
    },
    "kernelspec": {
      "name": "python3",
      "display_name": "Python 3"
    }
  },
  "cells": [
    {
      "cell_type": "markdown",
      "metadata": {
        "id": "view-in-github",
        "colab_type": "text"
      },
      "source": [
        "<a href=\"https://colab.research.google.com/github/shreddy1/Analyzing-HeartDisease-using-MachineLearning-techniques/blob/master/HeartDisease_MiniProject.ipynb\" target=\"_parent\"><img src=\"https://colab.research.google.com/assets/colab-badge.svg\" alt=\"Open In Colab\"/></a>"
      ]
    },
    {
      "cell_type": "code",
      "metadata": {
        "id": "W_wUQ3vJN6lp",
        "colab_type": "code",
        "colab": {}
      },
      "source": [
        "#Importing the required libraries.\n",
        "import pandas as pd\n",
        "import numpy as np\n",
        "import matplotlib.pyplot as plt\n",
        "from sklearn.model_selection import train_test_split\n",
        "import seaborn as sns\n",
        "from sklearn.neighbors import KNeighborsClassifier\n",
        "from sklearn.ensemble import RandomForestClassifier\n",
        "from sklearn.naive_bayes import GaussianNB\n",
        "from sklearn.tree import DecisionTreeClassifier\n",
        "from sklearn.linear_model import LogisticRegression\n",
        "from sklearn.metrics import confusion_matrix\n",
        "from sklearn.svm import SVC\n",
        "from sklearn.preprocessing import StandardScaler\n",
        "from sklearn.metrics import accuracy_score"
      ],
      "execution_count": 0,
      "outputs": []
    },
    {
      "cell_type": "code",
      "metadata": {
        "id": "_KH_puABN4A4",
        "colab_type": "code",
        "outputId": "f1aa2a5b-c4bb-4dcb-d573-27f49de4e822",
        "colab": {
          "base_uri": "https://localhost:8080/",
          "height": 272
        }
      },
      "source": [
        "heart= pd.read_csv(\"/content/heart_Disease.csv\")\n",
        "\n",
        "#Prints the name of the columns of the dataset.\n",
        "print(heart.columns)\n",
        "\n",
        "#Prints the number of rows and columns.\n",
        "print(heart.shape)\n",
        "\n",
        "#Prints the first 5 rows of the dataset.\n",
        "heart.head()"
      ],
      "execution_count": 219,
      "outputs": [
        {
          "output_type": "stream",
          "text": [
            "Index(['age', 'sex', 'cp', 'trestbps', 'chol', 'fbs', 'restecg', 'thalach',\n",
            "       'exang', 'oldpeak', 'slope', 'ca', 'thal', 'target'],\n",
            "      dtype='object')\n",
            "(303, 14)\n"
          ],
          "name": "stdout"
        },
        {
          "output_type": "execute_result",
          "data": {
            "text/html": [
              "<div>\n",
              "<style scoped>\n",
              "    .dataframe tbody tr th:only-of-type {\n",
              "        vertical-align: middle;\n",
              "    }\n",
              "\n",
              "    .dataframe tbody tr th {\n",
              "        vertical-align: top;\n",
              "    }\n",
              "\n",
              "    .dataframe thead th {\n",
              "        text-align: right;\n",
              "    }\n",
              "</style>\n",
              "<table border=\"1\" class=\"dataframe\">\n",
              "  <thead>\n",
              "    <tr style=\"text-align: right;\">\n",
              "      <th></th>\n",
              "      <th>age</th>\n",
              "      <th>sex</th>\n",
              "      <th>cp</th>\n",
              "      <th>trestbps</th>\n",
              "      <th>chol</th>\n",
              "      <th>fbs</th>\n",
              "      <th>restecg</th>\n",
              "      <th>thalach</th>\n",
              "      <th>exang</th>\n",
              "      <th>oldpeak</th>\n",
              "      <th>slope</th>\n",
              "      <th>ca</th>\n",
              "      <th>thal</th>\n",
              "      <th>target</th>\n",
              "    </tr>\n",
              "  </thead>\n",
              "  <tbody>\n",
              "    <tr>\n",
              "      <th>0</th>\n",
              "      <td>63</td>\n",
              "      <td>1</td>\n",
              "      <td>3</td>\n",
              "      <td>145</td>\n",
              "      <td>233</td>\n",
              "      <td>1</td>\n",
              "      <td>0</td>\n",
              "      <td>150</td>\n",
              "      <td>0</td>\n",
              "      <td>2.3</td>\n",
              "      <td>0</td>\n",
              "      <td>0</td>\n",
              "      <td>1</td>\n",
              "      <td>1</td>\n",
              "    </tr>\n",
              "    <tr>\n",
              "      <th>1</th>\n",
              "      <td>37</td>\n",
              "      <td>1</td>\n",
              "      <td>2</td>\n",
              "      <td>130</td>\n",
              "      <td>250</td>\n",
              "      <td>0</td>\n",
              "      <td>1</td>\n",
              "      <td>187</td>\n",
              "      <td>0</td>\n",
              "      <td>3.5</td>\n",
              "      <td>0</td>\n",
              "      <td>0</td>\n",
              "      <td>2</td>\n",
              "      <td>1</td>\n",
              "    </tr>\n",
              "    <tr>\n",
              "      <th>2</th>\n",
              "      <td>41</td>\n",
              "      <td>0</td>\n",
              "      <td>1</td>\n",
              "      <td>130</td>\n",
              "      <td>204</td>\n",
              "      <td>0</td>\n",
              "      <td>0</td>\n",
              "      <td>172</td>\n",
              "      <td>0</td>\n",
              "      <td>1.4</td>\n",
              "      <td>2</td>\n",
              "      <td>0</td>\n",
              "      <td>2</td>\n",
              "      <td>1</td>\n",
              "    </tr>\n",
              "    <tr>\n",
              "      <th>3</th>\n",
              "      <td>56</td>\n",
              "      <td>1</td>\n",
              "      <td>1</td>\n",
              "      <td>120</td>\n",
              "      <td>236</td>\n",
              "      <td>0</td>\n",
              "      <td>1</td>\n",
              "      <td>178</td>\n",
              "      <td>0</td>\n",
              "      <td>0.8</td>\n",
              "      <td>2</td>\n",
              "      <td>0</td>\n",
              "      <td>2</td>\n",
              "      <td>1</td>\n",
              "    </tr>\n",
              "    <tr>\n",
              "      <th>4</th>\n",
              "      <td>57</td>\n",
              "      <td>0</td>\n",
              "      <td>0</td>\n",
              "      <td>120</td>\n",
              "      <td>354</td>\n",
              "      <td>0</td>\n",
              "      <td>1</td>\n",
              "      <td>163</td>\n",
              "      <td>1</td>\n",
              "      <td>0.6</td>\n",
              "      <td>2</td>\n",
              "      <td>0</td>\n",
              "      <td>2</td>\n",
              "      <td>1</td>\n",
              "    </tr>\n",
              "  </tbody>\n",
              "</table>\n",
              "</div>"
            ],
            "text/plain": [
              "   age  sex  cp  trestbps  chol  fbs  ...  exang  oldpeak  slope  ca  thal  target\n",
              "0   63    1   3       145   233    1  ...      0      2.3      0   0     1       1\n",
              "1   37    1   2       130   250    0  ...      0      3.5      0   0     2       1\n",
              "2   41    0   1       130   204    0  ...      0      1.4      2   0     2       1\n",
              "3   56    1   1       120   236    0  ...      0      0.8      2   0     2       1\n",
              "4   57    0   0       120   354    0  ...      1      0.6      2   0     2       1\n",
              "\n",
              "[5 rows x 14 columns]"
            ]
          },
          "metadata": {
            "tags": []
          },
          "execution_count": 219
        }
      ]
    },
    {
      "cell_type": "code",
      "metadata": {
        "id": "sLJWoxFUWk2s",
        "colab_type": "code",
        "outputId": "427b7e78-14c9-4103-ef9f-2e524ffb5008",
        "colab": {
          "base_uri": "https://localhost:8080/",
          "height": 283
        }
      },
      "source": [
        "#Histogram fot the Heart Disease dataset.\n",
        "heart.plot.hist()"
      ],
      "execution_count": 220,
      "outputs": [
        {
          "output_type": "execute_result",
          "data": {
            "text/plain": [
              "<matplotlib.axes._subplots.AxesSubplot at 0x7fd374cb27f0>"
            ]
          },
          "metadata": {
            "tags": []
          },
          "execution_count": 220
        },
        {
          "output_type": "display_data",
          "data": {
            "image/png": "[encoded data removed]",
            "text/plain": [
              "<Figure size 432x288 with 1 Axes>"
            ]
          },
          "metadata": {
            "tags": []
          }
        }
      ]
    },
    {
      "cell_type": "code",
      "metadata": {
        "id": "tJjg-x_-P_Yt",
        "colab_type": "code",
        "outputId": "bc18b15c-58ba-4aed-b01d-58e9768c7cc8",
        "colab": {
          "base_uri": "https://localhost:8080/",
          "height": 419
        }
      },
      "source": [
        "#Checks if the dataset has any null values. \n",
        "heart.isnull()"
      ],
      "execution_count": 221,
      "outputs": [
        {
          "output_type": "execute_result",
          "data": {
            "text/html": [
              "<div>\n",
              "<style scoped>\n",
              "    .dataframe tbody tr th:only-of-type {\n",
              "        vertical-align: middle;\n",
              "    }\n",
              "\n",
              "    .dataframe tbody tr th {\n",
              "        vertical-align: top;\n",
              "    }\n",
              "\n",
              "    .dataframe thead th {\n",
              "        text-align: right;\n",
              "    }\n",
              "</style>\n",
              "<table border=\"1\" class=\"dataframe\">\n",
              "  <thead>\n",
              "    <tr style=\"text-align: right;\">\n",
              "      <th></th>\n",
              "      <th>age</th>\n",
              "      <th>sex</th>\n",
              "      <th>cp</th>\n",
              "      <th>trestbps</th>\n",
              "      <th>chol</th>\n",
              "      <th>fbs</th>\n",
              "      <th>restecg</th>\n",
              "      <th>thalach</th>\n",
              "      <th>exang</th>\n",
              "      <th>oldpeak</th>\n",
              "      <th>slope</th>\n",
              "      <th>ca</th>\n",
              "      <th>thal</th>\n",
              "      <th>target</th>\n",
              "    </tr>\n",
              "  </thead>\n",
              "  <tbody>\n",
              "    <tr>\n",
              "      <th>0</th>\n",
              "      <td>False</td>\n",
              "      <td>False</td>\n",
              "      <td>False</td>\n",
              "      <td>False</td>\n",
              "      <td>False</td>\n",
              "      <td>False</td>\n",
              "      <td>False</td>\n",
              "      <td>False</td>\n",
              "      <td>False</td>\n",
              "      <td>False</td>\n",
              "      <td>False</td>\n",
              "      <td>False</td>\n",
              "      <td>False</td>\n",
              "      <td>False</td>\n",
              "    </tr>\n",
              "    <tr>\n",
              "      <th>1</th>\n",
              "      <td>False</td>\n",
              "      <td>False</td>\n",
              "      <td>False</td>\n",
              "      <td>False</td>\n",
              "      <td>False</td>\n",
              "      <td>False</td>\n",
              "      <td>False</td>\n",
              "      <td>False</td>\n",
              "      <td>False</td>\n",
              "      <td>False</td>\n",
              "      <td>False</td>\n",
              "      <td>False</td>\n",
              "      <td>False</td>\n",
              "      <td>False</td>\n",
              "    </tr>\n",
              "    <tr>\n",
              "      <th>2</th>\n",
              "      <td>False</td>\n",
              "      <td>False</td>\n",
              "      <td>False</td>\n",
              "      <td>False</td>\n",
              "      <td>False</td>\n",
              "      <td>False</td>\n",
              "      <td>False</td>\n",
              "      <td>False</td>\n",
              "      <td>False</td>\n",
              "      <td>False</td>\n",
              "      <td>False</td>\n",
              "      <td>False</td>\n",
              "      <td>False</td>\n",
              "      <td>False</td>\n",
              "    </tr>\n",
              "    <tr>\n",
              "      <th>3</th>\n",
              "      <td>False</td>\n",
              "      <td>False</td>\n",
              "      <td>False</td>\n",
              "      <td>False</td>\n",
              "      <td>False</td>\n",
              "      <td>False</td>\n",
              "      <td>False</td>\n",
              "      <td>False</td>\n",
              "      <td>False</td>\n",
              "      <td>False</td>\n",
              "      <td>False</td>\n",
              "      <td>False</td>\n",
              "      <td>False</td>\n",
              "      <td>False</td>\n",
              "    </tr>\n",
              "    <tr>\n",
              "      <th>4</th>\n",
              "      <td>False</td>\n",
              "      <td>False</td>\n",
              "      <td>False</td>\n",
              "      <td>False</td>\n",
              "      <td>False</td>\n",
              "      <td>False</td>\n",
              "      <td>False</td>\n",
              "      <td>False</td>\n",
              "      <td>False</td>\n",
              "      <td>False</td>\n",
              "      <td>False</td>\n",
              "      <td>False</td>\n",
              "      <td>False</td>\n",
              "      <td>False</td>\n",
              "    </tr>\n",
              "    <tr>\n",
              "      <th>...</th>\n",
              "      <td>...</td>\n",
              "      <td>...</td>\n",
              "      <td>...</td>\n",
              "      <td>...</td>\n",
              "      <td>...</td>\n",
              "      <td>...</td>\n",
              "      <td>...</td>\n",
              "      <td>...</td>\n",
              "      <td>...</td>\n",
              "      <td>...</td>\n",
              "      <td>...</td>\n",
              "      <td>...</td>\n",
              "      <td>...</td>\n",
              "      <td>...</td>\n",
              "    </tr>\n",
              "    <tr>\n",
              "      <th>298</th>\n",
              "      <td>False</td>\n",
              "      <td>False</td>\n",
              "      <td>False</td>\n",
              "      <td>False</td>\n",
              "      <td>False</td>\n",
              "      <td>False</td>\n",
              "      <td>False</td>\n",
              "      <td>False</td>\n",
              "      <td>False</td>\n",
              "      <td>False</td>\n",
              "      <td>False</td>\n",
              "      <td>False</td>\n",
              "      <td>False</td>\n",
              "      <td>False</td>\n",
              "    </tr>\n",
              "    <tr>\n",
              "      <th>299</th>\n",
              "      <td>False</td>\n",
              "      <td>False</td>\n",
              "      <td>False</td>\n",
              "      <td>False</td>\n",
              "      <td>False</td>\n",
              "      <td>False</td>\n",
              "      <td>False</td>\n",
              "      <td>False</td>\n",
              "      <td>False</td>\n",
              "      <td>False</td>\n",
              "      <td>False</td>\n",
              "      <td>False</td>\n",
              "      <td>False</td>\n",
              "      <td>False</td>\n",
              "    </tr>\n",
              "    <tr>\n",
              "      <th>300</th>\n",
              "      <td>False</td>\n",
              "      <td>False</td>\n",
              "      <td>False</td>\n",
              "      <td>False</td>\n",
              "      <td>False</td>\n",
              "      <td>False</td>\n",
              "      <td>False</td>\n",
              "      <td>False</td>\n",
              "      <td>False</td>\n",
              "      <td>False</td>\n",
              "      <td>False</td>\n",
              "      <td>False</td>\n",
              "      <td>False</td>\n",
              "      <td>False</td>\n",
              "    </tr>\n",
              "    <tr>\n",
              "      <th>301</th>\n",
              "      <td>False</td>\n",
              "      <td>False</td>\n",
              "      <td>False</td>\n",
              "      <td>False</td>\n",
              "      <td>False</td>\n",
              "      <td>False</td>\n",
              "      <td>False</td>\n",
              "      <td>False</td>\n",
              "      <td>False</td>\n",
              "      <td>False</td>\n",
              "      <td>False</td>\n",
              "      <td>False</td>\n",
              "      <td>False</td>\n",
              "      <td>False</td>\n",
              "    </tr>\n",
              "    <tr>\n",
              "      <th>302</th>\n",
              "      <td>False</td>\n",
              "      <td>False</td>\n",
              "      <td>False</td>\n",
              "      <td>False</td>\n",
              "      <td>False</td>\n",
              "      <td>False</td>\n",
              "      <td>False</td>\n",
              "      <td>False</td>\n",
              "      <td>False</td>\n",
              "      <td>False</td>\n",
              "      <td>False</td>\n",
              "      <td>False</td>\n",
              "      <td>False</td>\n",
              "      <td>False</td>\n",
              "    </tr>\n",
              "  </tbody>\n",
              "</table>\n",
              "<p>303 rows × 14 columns</p>\n",
              "</div>"
            ],
            "text/plain": [
              "       age    sex     cp  trestbps   chol  ...  oldpeak  slope     ca   thal  target\n",
              "0    False  False  False     False  False  ...    False  False  False  False   False\n",
              "1    False  False  False     False  False  ...    False  False  False  False   False\n",
              "2    False  False  False     False  False  ...    False  False  False  False   False\n",
              "3    False  False  False     False  False  ...    False  False  False  False   False\n",
              "4    False  False  False     False  False  ...    False  False  False  False   False\n",
              "..     ...    ...    ...       ...    ...  ...      ...    ...    ...    ...     ...\n",
              "298  False  False  False     False  False  ...    False  False  False  False   False\n",
              "299  False  False  False     False  False  ...    False  False  False  False   False\n",
              "300  False  False  False     False  False  ...    False  False  False  False   False\n",
              "301  False  False  False     False  False  ...    False  False  False  False   False\n",
              "302  False  False  False     False  False  ...    False  False  False  False   False\n",
              "\n",
              "[303 rows x 14 columns]"
            ]
          },
          "metadata": {
            "tags": []
          },
          "execution_count": 221
        }
      ]
    },
    {
      "cell_type": "code",
      "metadata": {
        "id": "6x4me__-SYAf",
        "colab_type": "code",
        "outputId": "454d82f3-bc37-4f36-a0cc-95fbbd8bc5bc",
        "colab": {
          "base_uri": "https://localhost:8080/",
          "height": 330
        }
      },
      "source": [
        "#Prints how many patients have heart disease and how many don't.\n",
        "print(heart.target.value_counts())\n",
        "\n",
        "#Bar graph for Heart disease vs no disease.\n",
        "sns.countplot(x=\"target\", data=heart)\n",
        "plt.xlabel(\"target(0 = No Disease, 1= Have Disease)\")\n",
        "plt.show()"
      ],
      "execution_count": 222,
      "outputs": [
        {
          "output_type": "stream",
          "text": [
            "1    165\n",
            "0    138\n",
            "Name: target, dtype: int64\n"
          ],
          "name": "stdout"
        },
        {
          "output_type": "display_data",
          "data": {
            "image/png": "[encoded data removed]",
            "text/plain": [
              "<Figure size 432x288 with 1 Axes>"
            ]
          },
          "metadata": {
            "tags": []
          }
        }
      ]
    },
    {
      "cell_type": "code",
      "metadata": {
        "id": "xM70XoERTzSt",
        "colab_type": "code",
        "outputId": "9775bc85-caeb-4e00-bb38-01e6ae571c07",
        "colab": {
          "base_uri": "https://localhost:8080/",
          "height": 51
        }
      },
      "source": [
        "#Displays percentage of patients who have heart disease and no disease.\n",
        "No_Disease = len(heart[heart.target == 0])\n",
        "Have_Disease = len(heart[heart.target == 1])\n",
        "print(\"Patients who don't have Heart Disease: {:.2f}%\".format((No_Disease / (len(heart.target))*100)))\n",
        "print(\"Patients who have Heart Disease: {:.2f}%\".format((Have_Disease / (len(heart.target))*100)))"
      ],
      "execution_count": 223,
      "outputs": [
        {
          "output_type": "stream",
          "text": [
            "Patients who don't have Heart Disease: 45.54%\n",
            "Patients who have Heart Disease: 54.46%\n"
          ],
          "name": "stdout"
        }
      ]
    },
    {
      "cell_type": "code",
      "metadata": {
        "id": "MkFbG-YsUx7T",
        "colab_type": "code",
        "outputId": "815ae86f-e847-482d-b8c5-225fbbf03f08",
        "colab": {
          "base_uri": "https://localhost:8080/",
          "height": 330
        }
      },
      "source": [
        "#Prints how many male and female patients are there.\n",
        "print(heart.sex.value_counts())\n",
        "\n",
        "#Bar graph for Male and Female patients\n",
        "sns.countplot(x='sex', data=heart, palette=\"Set3\")\n",
        "plt.xlabel(\"(Sex (0 = female, 1= male))\")\n",
        "plt.show()\n"
      ],
      "execution_count": 224,
      "outputs": [
        {
          "output_type": "stream",
          "text": [
            "1    207\n",
            "0     96\n",
            "Name: sex, dtype: int64\n"
          ],
          "name": "stdout"
        },
        {
          "output_type": "display_data",
          "data": {
            "image/png": "[encoded data removed]",
            "text/plain": [
              "<Figure size 432x288 with 1 Axes>"
            ]
          },
          "metadata": {
            "tags": []
          }
        }
      ]
    },
    {
      "cell_type": "code",
      "metadata": {
        "id": "8gW7csYPVd2V",
        "colab_type": "code",
        "outputId": "d03f9db0-fec3-4192-e6cd-01be742335c8",
        "colab": {
          "base_uri": "https://localhost:8080/",
          "height": 51
        }
      },
      "source": [
        "#Displays percentage of male and female patients.\n",
        "Numof_Female = len(heart[heart.sex == 0])\n",
        "Numof_Male = len(heart[heart.sex == 1])\n",
        "print(\"Number of Female Patients: {:.2f}%\".format((Numof_Female / (len(heart.sex))*100)))\n",
        "print(\"Number of Male Patients: {:.2f}%\".format((Numof_Male / (len(heart.sex))*100)))"
      ],
      "execution_count": 225,
      "outputs": [
        {
          "output_type": "stream",
          "text": [
            "Number of Female Patients: 31.68%\n",
            "Number of Male Patients: 68.32%\n"
          ],
          "name": "stdout"
        }
      ]
    },
    {
      "cell_type": "code",
      "metadata": {
        "id": "rvAXVcYr1N3r",
        "colab_type": "code",
        "outputId": "236b1ffd-3f58-4769-a05b-3ee8f6c99f30",
        "colab": {
          "base_uri": "https://localhost:8080/",
          "height": 295
        }
      },
      "source": [
        "sns.barplot(x=heart.age.value_counts()[:10].index,y=heart.age.value_counts()[:10].values)\n",
        "plt.xlabel('Age')\n",
        "plt.ylabel('Age Counter')\n",
        "plt.title('Age Analysis System')\n",
        "plt.show()"
      ],
      "execution_count": 226,
      "outputs": [
        {
          "output_type": "display_data",
          "data": {
            "image/png": "[encoded data removed]",
            "text/plain": [
              "<Figure size 432x288 with 1 Axes>"
            ]
          },
          "metadata": {
            "tags": []
          }
        }
      ]
    },
    {
      "cell_type": "code",
      "metadata": {
        "id": "51zV54AO2CBy",
        "colab_type": "code",
        "outputId": "15792264-c06b-4026-9da2-96a03b8eaf83",
        "colab": {
          "base_uri": "https://localhost:8080/",
          "height": 51
        }
      },
      "source": [
        "min_age=min(heart.age)\n",
        "max_age=max(heart.age)\n",
        "print('Minimum Age :',min_age)\n",
        "print('Maximum Age :',max_age)\n"
      ],
      "execution_count": 227,
      "outputs": [
        {
          "output_type": "stream",
          "text": [
            "Minimum Age : 29\n",
            "Maximum Age : 77\n"
          ],
          "name": "stdout"
        }
      ]
    },
    {
      "cell_type": "code",
      "metadata": {
        "id": "nedCeIyb2d1t",
        "colab_type": "code",
        "outputId": "3b3e8355-7297-49c8-fba3-7f3fed4c89c4",
        "colab": {
          "base_uri": "https://localhost:8080/",
          "height": 68
        }
      },
      "source": [
        "young_age=heart[(heart.age>=29)&(heart.age<40)]\n",
        "middle_age=heart[(heart.age>=40)&(heart.age<55)]\n",
        "elderly_age=heart[(heart.age>55)]\n",
        "print('Young Age :',len(young_age))\n",
        "print('Middle Age :',len(middle_age))\n",
        "print('Elderly Age :',len(elderly_age))"
      ],
      "execution_count": 228,
      "outputs": [
        {
          "output_type": "stream",
          "text": [
            "Young Age : 16\n",
            "Middle Age : 128\n",
            "Elderly Age : 151\n"
          ],
          "name": "stdout"
        }
      ]
    },
    {
      "cell_type": "code",
      "metadata": {
        "id": "AwW6bC-dW4tT",
        "colab_type": "code",
        "outputId": "963724a3-305d-41ab-ad87-916b043d467e",
        "colab": {
          "base_uri": "https://localhost:8080/",
          "height": 279
        }
      },
      "source": [
        "#Scatter plot for Maximum Heart Rate: Disease/Not Disease \n",
        "plt.scatter(x=heart.age[heart.target==1], y=heart.thalach[(heart.target==1)], c=\"orange\")\n",
        "plt.scatter(x=heart.age[heart.target==0], y=heart.thalach[(heart.target==0)], c=\"blue\")\n",
        "plt.legend([\"Have Disease\", \"No Disease\"])\n",
        "plt.xlabel(\"Age\")\n",
        "plt.ylabel(\"Maximum Heart Rate\")\n",
        "plt.show()"
      ],
      "execution_count": 229,
      "outputs": [
        {
          "output_type": "display_data",
          "data": {
            "image/png": "[encoded data removed]",
            "text/plain": [
              "<Figure size 432x288 with 1 Axes>"
            ]
          },
          "metadata": {
            "tags": []
          }
        }
      ]
    },
    {
      "cell_type": "code",
      "metadata": {
        "id": "ihcOZauhXRtX",
        "colab_type": "code",
        "colab": {}
      },
      "source": [
        "x = heart.drop(['target'], axis = 1)\n",
        "# print(x)\n",
        "y = heart.target.values\n",
        "# print(y)"
      ],
      "execution_count": 0,
      "outputs": []
    },
    {
      "cell_type": "code",
      "metadata": {
        "id": "k8x9JEJCXjSY",
        "colab_type": "code",
        "colab": {}
      },
      "source": [
        "#Training and testing- 80:20\n",
        "x_train, x_test, y_train, y_test = train_test_split(x,y,test_size = 0.2,random_state=0)"
      ],
      "execution_count": 0,
      "outputs": []
    },
    {
      "cell_type": "code",
      "metadata": {
        "id": "3xAow_IUXoo9",
        "colab_type": "code",
        "colab": {}
      },
      "source": [
        "ss=StandardScaler()\n",
        "x_train=ss.fit_transform(x_train)\n",
        "x_test=ss.transform(x_test)\n",
        "# print(ss)"
      ],
      "execution_count": 0,
      "outputs": []
    },
    {
      "cell_type": "markdown",
      "metadata": {
        "id": "ATs-x4-UHKGa",
        "colab_type": "text"
      },
      "source": [
        "# **Implementing Different Machine Learning Models**"
      ]
    },
    {
      "cell_type": "markdown",
      "metadata": {
        "id": "MS0Ax-Le6JPw",
        "colab_type": "text"
      },
      "source": [
        "# K-NN Model Classification\n"
      ]
    },
    {
      "cell_type": "code",
      "metadata": {
        "id": "4UxQ-_7-Y0Fa",
        "colab_type": "code",
        "outputId": "5c187e49-6f69-4052-cd12-af28271b37ee",
        "colab": {
          "base_uri": "https://localhost:8080/",
          "height": 34
        }
      },
      "source": [
        "knn = KNeighborsClassifier(n_neighbors = 2)  # n_neighbors means k\n",
        "knn.fit(x_train, y_train)\n",
        "knn_prediction = knn.predict(x_test)\n",
        "knn_cm=confusion_matrix(y_test,knn_prediction)\n",
        "knn_acc=accuracy_score(knn_prediction,y_test)*100\n",
        "print(\"Accuracy of K-NN Model: {:.2f}%\".format(knn_acc))"
      ],
      "execution_count": 233,
      "outputs": [
        {
          "output_type": "stream",
          "text": [
            "Accuracy of K-NN Model: 81.97%\n"
          ],
          "name": "stdout"
        }
      ]
    },
    {
      "cell_type": "markdown",
      "metadata": {
        "id": "eamBtqelFl2t",
        "colab_type": "text"
      },
      "source": [
        "# Naive Bayes Model Classification"
      ]
    },
    {
      "cell_type": "code",
      "metadata": {
        "id": "F8B6SQQVZTLN",
        "colab_type": "code",
        "outputId": "0b065f7f-b7e2-4ebb-abaf-7de9c34a7158",
        "colab": {
          "base_uri": "https://localhost:8080/",
          "height": 34
        }
      },
      "source": [
        "nb = GaussianNB()\n",
        "nb.fit(x_train, y_train)\n",
        "nb_prediction=nb.predict(x_test)\n",
        "nb_cm=confusion_matrix(y_test,nb_prediction)\n",
        "#Accuracy Predictor\n",
        "nb_acc = accuracy_score(nb_prediction,y_test)*100\n",
        "print(\"Accuracy of Naive Bayes: {:.2f}%\".format(nb_acc))"
      ],
      "execution_count": 234,
      "outputs": [
        {
          "output_type": "stream",
          "text": [
            "Accuracy of Naive Bayes: 85.25%\n"
          ],
          "name": "stdout"
        }
      ]
    },
    {
      "cell_type": "markdown",
      "metadata": {
        "id": "5j1NYZpRFxbq",
        "colab_type": "text"
      },
      "source": [
        "# Decision Tree Classifier"
      ]
    },
    {
      "cell_type": "code",
      "metadata": {
        "id": "ZlQjK2jAZViF",
        "colab_type": "code",
        "outputId": "e2328a6f-0882-4547-aa58-cd06423e10fc",
        "colab": {
          "base_uri": "https://localhost:8080/",
          "height": 34
        }
      },
      "source": [
        "dtc = DecisionTreeClassifier()\n",
        "dtc.fit(x_train, y_train)\n",
        "dtc_prediction=dtc.predict(x_test)\n",
        "dtc_cm=confusion_matrix(y_test,dtc_prediction)\n",
        "#Accuracy Predictor\n",
        "dtc_acc = accuracy_score(dtc_prediction, y_test)*100\n",
        "print(\"Decision Tree Model Accuracy {:.2f}%\".format(dtc_acc))"
      ],
      "execution_count": 235,
      "outputs": [
        {
          "output_type": "stream",
          "text": [
            "Decision Tree Model Accuracy 75.41%\n"
          ],
          "name": "stdout"
        }
      ]
    },
    {
      "cell_type": "markdown",
      "metadata": {
        "id": "KuEZYhDKHnbF",
        "colab_type": "text"
      },
      "source": [
        "#Logistic Regression Model"
      ]
    },
    {
      "cell_type": "code",
      "metadata": {
        "id": "MjpQOpfdHhKW",
        "colab_type": "code",
        "outputId": "5a20498d-e56d-424d-f4d4-8a80d5680309",
        "colab": {
          "base_uri": "https://localhost:8080/",
          "height": 34
        }
      },
      "source": [
        "lr=LogisticRegression(random_state=0)\n",
        "lr.fit(x_train,y_train)\n",
        "lr_prediction=lr.predict(x_test)\n",
        "lr_cm=confusion_matrix(y_test,lr_prediction)\n",
        "lr_acc=accuracy_score(y_test, lr_prediction)*100\n",
        "print(\"Logistic Regression Accuracy {:.2f}%\".format(lr_acc))"
      ],
      "execution_count": 236,
      "outputs": [
        {
          "output_type": "stream",
          "text": [
            "Logistic Regression Accuracy 85.25%\n"
          ],
          "name": "stdout"
        }
      ]
    },
    {
      "cell_type": "markdown",
      "metadata": {
        "id": "aQ4l8NE2KD8G",
        "colab_type": "text"
      },
      "source": [
        "#SVM classifier"
      ]
    },
    {
      "cell_type": "code",
      "metadata": {
        "id": "F6NLVj2nKGQE",
        "colab_type": "code",
        "outputId": "c271139c-5cdf-42a1-c732-56495141d004",
        "colab": {
          "base_uri": "https://localhost:8080/",
          "height": 34
        }
      },
      "source": [
        "svm=SVC(kernel='linear',random_state=0)\n",
        "svm.fit(x_train,y_train)\n",
        "svm_prediction=svm.predict(x_test)\n",
        "svm_cm=confusion_matrix(y_test,svm_prediction)\n",
        "svm_acc = accuracy_score(y_test, svm_prediction)*100\n",
        "print(\"SVM Classifier Accuracy {:.2f}%\".format(svm_acc))"
      ],
      "execution_count": 237,
      "outputs": [
        {
          "output_type": "stream",
          "text": [
            "SVM Classifier Accuracy 81.97%\n"
          ],
          "name": "stdout"
        }
      ]
    },
    {
      "cell_type": "markdown",
      "metadata": {
        "id": "09eUYMBpLmYR",
        "colab_type": "text"
      },
      "source": [
        "# Random Forest Classifier"
      ]
    },
    {
      "cell_type": "code",
      "metadata": {
        "id": "k3WEhHX4Lmqs",
        "colab_type": "code",
        "outputId": "0e89cd4a-b02e-4323-b0b9-fef3943afe98",
        "colab": {
          "base_uri": "https://localhost:8080/",
          "height": 34
        }
      },
      "source": [
        "rfc=RandomForestClassifier(n_estimators=10,criterion='entropy',random_state=0)\n",
        "rfc.fit(x_train,y_train)\n",
        "rfc_prediction=rfc.predict(x_test)\n",
        "rfc_cm=confusion_matrix(y_test,rfc_prediction)\n",
        "rfc_acc = accuracy_score(rfc_prediction,y_test)*100\n",
        "print(\"Random Forest Classifier Accuracy {:.2f}%\".format(rfc_acc))"
      ],
      "execution_count": 238,
      "outputs": [
        {
          "output_type": "stream",
          "text": [
            "Random Forest Classifier Accuracy 83.61%\n"
          ],
          "name": "stdout"
        }
      ]
    },
    {
      "cell_type": "markdown",
      "metadata": {
        "id": "XA9Q2JQPF3ey",
        "colab_type": "text"
      },
      "source": [
        "# Comparison of Proposed Models Accuracy Rates"
      ]
    },
    {
      "cell_type": "code",
      "metadata": {
        "id": "hNYzsWYbZnlt",
        "colab_type": "code",
        "outputId": "0256b840-ab9e-4d73-8cea-5a85d0d4c399",
        "colab": {
          "base_uri": "https://localhost:8080/",
          "height": 350
        }
      },
      "source": [
        "# sns.set_style(\"whitegrid\")\n",
        "plt.figure(figsize=(10,5))\n",
        "plt.yticks(np.arange(0,100,10))\n",
        "plt.ylabel(\"Accuracy %\")\n",
        "plt.xlabel(\"Proposed Models\")\n",
        "sns.barplot(x=['KNN','Naive Bayes','Decision Tree','Logistic Regression','SVM','Random Forest'], y=pd.Series(data=[knn_acc,nb_acc,dtc_acc,lr_acc,svm_acc,rfc_acc]))\n",
        "plt.title('Comparison of Model Accuracy')\n",
        "plt.show()"
      ],
      "execution_count": 251,
      "outputs": [
        {
          "output_type": "display_data",
          "data": {
            "image/png": "[encoded data removed]",
            "text/plain": [
              "<Figure size 720x360 with 1 Axes>"
            ]
          },
          "metadata": {
            "tags": []
          }
        }
      ]
    }
  ]
}